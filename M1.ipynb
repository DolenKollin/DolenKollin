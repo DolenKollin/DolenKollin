{
  "nbformat": 4,
  "nbformat_minor": 0,
  "metadata": {
    "colab": {
      "provenance": [],
      "authorship_tag": "ABX9TyN1QIfMuRf5EFJ6TR9P6+vZ",
      "include_colab_link": true
    },
    "kernelspec": {
      "name": "python3",
      "display_name": "Python 3"
    },
    "language_info": {
      "name": "python"
    }
  },
  "cells": [
    {
      "cell_type": "markdown",
      "metadata": {
        "id": "view-in-github",
        "colab_type": "text"
      },
      "source": [
        "<a href=\"https://colab.research.google.com/github/DolenKollin/DolenKollin/blob/main/M1.ipynb\" target=\"_parent\"><img src=\"https://colab.research.google.com/assets/colab-badge.svg\" alt=\"Open In Colab\"/></a>"
      ]
    },
    {
      "cell_type": "code",
      "execution_count": 1,
      "metadata": {
        "id": "EDrEM0w2KhIm"
      },
      "outputs": [],
      "source": [
        "import numpy as np\n",
        "import matplotlib.pyplot as plt\n",
        "import pandas as pd"
      ]
    },
    {
      "cell_type": "markdown",
      "source": [
        "# Маятник №1"
      ],
      "metadata": {
        "id": "rSGa98bWdISt"
      }
    },
    {
      "cell_type": "code",
      "source": [
        "n = 50\n",
        "x = np.array([1, 2, 1.5, 1.5, 2, 2, 1]) # сюда вводить значения\n",
        "#x = np.array([int(input()) for _ in range(n)])\n",
        "x_mean = x.mean()\n",
        "df = pd.DataFrame(np.vstack([x, x-x_mean, (x-x_mean)**2]).T, columns=['x', 'x-x̅', '(x-x̅)²'])\n",
        "Σ = np.sum(df['(x-x̅)²'])\n",
        "σ = np.sqrt(Σ/(n - 1)) # Задание Б (3)\n",
        "df.style.set_caption(\"Маятник №1\")"
      ],
      "metadata": {
        "colab": {
          "base_uri": "https://localhost:8080/",
          "height": 286
        },
        "id": "A3FrvC8iKs0B",
        "outputId": "770af749-22ae-432c-ab10-071149827e0d"
      },
      "execution_count": 143,
      "outputs": [
        {
          "output_type": "execute_result",
          "data": {
            "text/plain": [
              "<pandas.io.formats.style.Styler at 0x7c22d5f73880>"
            ],
            "text/html": [
              "<style type=\"text/css\">\n",
              "</style>\n",
              "<table id=\"T_f3453\" class=\"dataframe\">\n",
              "  <caption>Маятник №1</caption>\n",
              "  <thead>\n",
              "    <tr>\n",
              "      <th class=\"blank level0\" >&nbsp;</th>\n",
              "      <th id=\"T_f3453_level0_col0\" class=\"col_heading level0 col0\" >x</th>\n",
              "      <th id=\"T_f3453_level0_col1\" class=\"col_heading level0 col1\" >x-x̅</th>\n",
              "      <th id=\"T_f3453_level0_col2\" class=\"col_heading level0 col2\" >(x-x̅)²</th>\n",
              "    </tr>\n",
              "  </thead>\n",
              "  <tbody>\n",
              "    <tr>\n",
              "      <th id=\"T_f3453_level0_row0\" class=\"row_heading level0 row0\" >0</th>\n",
              "      <td id=\"T_f3453_row0_col0\" class=\"data row0 col0\" >1.000000</td>\n",
              "      <td id=\"T_f3453_row0_col1\" class=\"data row0 col1\" >-0.571429</td>\n",
              "      <td id=\"T_f3453_row0_col2\" class=\"data row0 col2\" >0.326531</td>\n",
              "    </tr>\n",
              "    <tr>\n",
              "      <th id=\"T_f3453_level0_row1\" class=\"row_heading level0 row1\" >1</th>\n",
              "      <td id=\"T_f3453_row1_col0\" class=\"data row1 col0\" >2.000000</td>\n",
              "      <td id=\"T_f3453_row1_col1\" class=\"data row1 col1\" >0.428571</td>\n",
              "      <td id=\"T_f3453_row1_col2\" class=\"data row1 col2\" >0.183673</td>\n",
              "    </tr>\n",
              "    <tr>\n",
              "      <th id=\"T_f3453_level0_row2\" class=\"row_heading level0 row2\" >2</th>\n",
              "      <td id=\"T_f3453_row2_col0\" class=\"data row2 col0\" >1.500000</td>\n",
              "      <td id=\"T_f3453_row2_col1\" class=\"data row2 col1\" >-0.071429</td>\n",
              "      <td id=\"T_f3453_row2_col2\" class=\"data row2 col2\" >0.005102</td>\n",
              "    </tr>\n",
              "    <tr>\n",
              "      <th id=\"T_f3453_level0_row3\" class=\"row_heading level0 row3\" >3</th>\n",
              "      <td id=\"T_f3453_row3_col0\" class=\"data row3 col0\" >1.500000</td>\n",
              "      <td id=\"T_f3453_row3_col1\" class=\"data row3 col1\" >-0.071429</td>\n",
              "      <td id=\"T_f3453_row3_col2\" class=\"data row3 col2\" >0.005102</td>\n",
              "    </tr>\n",
              "    <tr>\n",
              "      <th id=\"T_f3453_level0_row4\" class=\"row_heading level0 row4\" >4</th>\n",
              "      <td id=\"T_f3453_row4_col0\" class=\"data row4 col0\" >2.000000</td>\n",
              "      <td id=\"T_f3453_row4_col1\" class=\"data row4 col1\" >0.428571</td>\n",
              "      <td id=\"T_f3453_row4_col2\" class=\"data row4 col2\" >0.183673</td>\n",
              "    </tr>\n",
              "    <tr>\n",
              "      <th id=\"T_f3453_level0_row5\" class=\"row_heading level0 row5\" >5</th>\n",
              "      <td id=\"T_f3453_row5_col0\" class=\"data row5 col0\" >2.000000</td>\n",
              "      <td id=\"T_f3453_row5_col1\" class=\"data row5 col1\" >0.428571</td>\n",
              "      <td id=\"T_f3453_row5_col2\" class=\"data row5 col2\" >0.183673</td>\n",
              "    </tr>\n",
              "    <tr>\n",
              "      <th id=\"T_f3453_level0_row6\" class=\"row_heading level0 row6\" >6</th>\n",
              "      <td id=\"T_f3453_row6_col0\" class=\"data row6 col0\" >1.000000</td>\n",
              "      <td id=\"T_f3453_row6_col1\" class=\"data row6 col1\" >-0.571429</td>\n",
              "      <td id=\"T_f3453_row6_col2\" class=\"data row6 col2\" >0.326531</td>\n",
              "    </tr>\n",
              "  </tbody>\n",
              "</table>\n"
            ]
          },
          "metadata": {},
          "execution_count": 143
        }
      ]
    },
    {
      "cell_type": "code",
      "source": [
        "print(x_mean, Σ, σ)"
      ],
      "metadata": {
        "id": "o9zuj2WoR2bG",
        "colab": {
          "base_uri": "https://localhost:8080/"
        },
        "outputId": "9691f3c8-59f1-4e8a-8f66-74aa83bb59e6"
      },
      "execution_count": 144,
      "outputs": [
        {
          "output_type": "stream",
          "name": "stdout",
          "text": [
            "1.5714285714285714 1.2142857142857142 0.15742090429123992\n"
          ]
        }
      ]
    },
    {
      "cell_type": "code",
      "source": [
        "plt.title('Число результатов в интервале')\n",
        "plt.grid(which='major')\n",
        "plt.grid(which='minor', linestyle=':')\n",
        "plt.xticks(np.arange(np.min(x)//0.05 * 0.05, np.max(x) + 0.05, 0.05))\n",
        "plt.yticks(np.arange(21))\n",
        "plt.fill_betweenx(np.arange(4), x_mean - σ, x_mean + σ, color = 'orange', alpha = .8, label='2σ')\n",
        "plt.hist(x, label='Распределение')\n",
        "plt.scatter(x_mean, 0, color = 'r', label='x̅')\n",
        "plt.legend()\n",
        "plt.show()"
      ],
      "metadata": {
        "colab": {
          "base_uri": "https://localhost:8080/",
          "height": 452
        },
        "id": "rgAf2NiIc1jc",
        "outputId": "1a9c28b5-30ee-4d9d-ab07-790d2fb76841"
      },
      "execution_count": 149,
      "outputs": [
        {
          "output_type": "display_data",
          "data": {
            "text/plain": [
              "<Figure size 640x480 with 1 Axes>"
            ],
            "image/png": "[encoded data removed]"
          },
          "metadata": {}
        }
      ]
    },
    {
      "cell_type": "code",
      "source": [
        "cnt = 0\n",
        "for i in x:\n",
        "  if x_mean - σ <= i <= x_mean + σ: cnt += 1\n",
        "P = cnt/n * 100 # Процент результатов измерений попавший в заштрихованную область\n",
        "print(P, 'сравнить с ожидаемым распределение Гаусса 0.68')"
      ],
      "metadata": {
        "colab": {
          "base_uri": "https://localhost:8080/"
        },
        "id": "mnL8gOWQxjLK",
        "outputId": "e65ea47a-c6f6-4ea1-8eaf-c92bb27dadc2"
      },
      "execution_count": 146,
      "outputs": [
        {
          "output_type": "stream",
          "name": "stdout",
          "text": [
            "4.0 сравнить с ожидаемым распределение Гаусса 0.68\n"
          ]
        }
      ]
    },
    {
      "cell_type": "code",
      "source": [
        "σx = σ / np.sqrt(n)\n",
        "k = 2\n",
        "Δx = k * σx\n",
        "print(f'X = {x_mean} ± {Δx}; для P = 0.95')\n",
        "ε = Δx / x_mean * 100\n",
        "print(f'Относительная погрешность: {ε}%')"
      ],
      "metadata": {
        "colab": {
          "base_uri": "https://localhost:8080/"
        },
        "id": "qH-gobRY1ogk",
        "outputId": "2c9fccc4-f259-45ae-f5f9-1e0b2d8db912"
      },
      "execution_count": 138,
      "outputs": [
        {
          "output_type": "stream",
          "name": "stdout",
          "text": [
            "X = 2.142857142857143 ± 0.1058080114025773; для P = 0.95\n",
            "Относительная погрешность: 4.93770719878694%\n"
          ]
        }
      ]
    },
    {
      "cell_type": "code",
      "source": [
        "n = 4\n",
        "x = np.array([1, 2, 3, 4]) # сюда вводить значения\n",
        "x_mean = x.mean()\n",
        "df = pd.DataFrame(np.vstack([x, x-x_mean, (x-x_mean)**2]).T, columns=['x', 'x-x̅', '(x-x̅)²'])\n",
        "Σ = np.sum(df['(x-x̅)²'])\n",
        "df.style.set_caption(\"Маятник №3\")"
      ],
      "metadata": {
        "colab": {
          "base_uri": "https://localhost:8080/",
          "height": 192
        },
        "id": "AA55k11kc7LY",
        "outputId": "b5cb9f67-e09b-46a5-81f0-b95d772af9a5"
      },
      "execution_count": 36,
      "outputs": [
        {
          "output_type": "execute_result",
          "data": {
            "text/plain": [
              "<pandas.io.formats.style.Styler at 0x7c22e104d930>"
            ],
            "text/html": [
              "<style type=\"text/css\">\n",
              "</style>\n",
              "<table id=\"T_1f1d5\" class=\"dataframe\">\n",
              "  <caption>Маятник №3</caption>\n",
              "  <thead>\n",
              "    <tr>\n",
              "      <th class=\"blank level0\" >&nbsp;</th>\n",
              "      <th id=\"T_1f1d5_level0_col0\" class=\"col_heading level0 col0\" >x</th>\n",
              "      <th id=\"T_1f1d5_level0_col1\" class=\"col_heading level0 col1\" >x-x̅</th>\n",
              "      <th id=\"T_1f1d5_level0_col2\" class=\"col_heading level0 col2\" >(x-x̅)²</th>\n",
              "    </tr>\n",
              "  </thead>\n",
              "  <tbody>\n",
              "    <tr>\n",
              "      <th id=\"T_1f1d5_level0_row0\" class=\"row_heading level0 row0\" >0</th>\n",
              "      <td id=\"T_1f1d5_row0_col0\" class=\"data row0 col0\" >1.000000</td>\n",
              "      <td id=\"T_1f1d5_row0_col1\" class=\"data row0 col1\" >-1.500000</td>\n",
              "      <td id=\"T_1f1d5_row0_col2\" class=\"data row0 col2\" >2.250000</td>\n",
              "    </tr>\n",
              "    <tr>\n",
              "      <th id=\"T_1f1d5_level0_row1\" class=\"row_heading level0 row1\" >1</th>\n",
              "      <td id=\"T_1f1d5_row1_col0\" class=\"data row1 col0\" >2.000000</td>\n",
              "      <td id=\"T_1f1d5_row1_col1\" class=\"data row1 col1\" >-0.500000</td>\n",
              "      <td id=\"T_1f1d5_row1_col2\" class=\"data row1 col2\" >0.250000</td>\n",
              "    </tr>\n",
              "    <tr>\n",
              "      <th id=\"T_1f1d5_level0_row2\" class=\"row_heading level0 row2\" >2</th>\n",
              "      <td id=\"T_1f1d5_row2_col0\" class=\"data row2 col0\" >3.000000</td>\n",
              "      <td id=\"T_1f1d5_row2_col1\" class=\"data row2 col1\" >0.500000</td>\n",
              "      <td id=\"T_1f1d5_row2_col2\" class=\"data row2 col2\" >0.250000</td>\n",
              "    </tr>\n",
              "    <tr>\n",
              "      <th id=\"T_1f1d5_level0_row3\" class=\"row_heading level0 row3\" >3</th>\n",
              "      <td id=\"T_1f1d5_row3_col0\" class=\"data row3 col0\" >4.000000</td>\n",
              "      <td id=\"T_1f1d5_row3_col1\" class=\"data row3 col1\" >1.500000</td>\n",
              "      <td id=\"T_1f1d5_row3_col2\" class=\"data row3 col2\" >2.250000</td>\n",
              "    </tr>\n",
              "  </tbody>\n",
              "</table>\n"
            ]
          },
          "metadata": {},
          "execution_count": 36
        }
      ]
    },
    {
      "cell_type": "code",
      "source": [
        "n = 12\n",
        "x = np.array([1, 2, 3, 4]) # сюда вводить значения\n",
        "x_mean = x.mean()\n",
        "df = pd.DataFrame(np.vstack([x, x-x_mean, (x-x_mean)**2]).T, columns=['x', 'x-x̅', '(x-x̅)²'])\n",
        "Σ = np.sum(df['(x-x̅)²'])\n",
        "df.style.set_caption(\"Маятник №4\")"
      ],
      "metadata": {
        "colab": {
          "base_uri": "https://localhost:8080/",
          "height": 192
        },
        "id": "hFmMWLyDeQMJ",
        "outputId": "018429af-968e-4c3d-ff18-674ec64c5d91"
      },
      "execution_count": 37,
      "outputs": [
        {
          "output_type": "execute_result",
          "data": {
            "text/plain": [
              "<pandas.io.formats.style.Styler at 0x7c22e104f790>"
            ],
            "text/html": [
              "<style type=\"text/css\">\n",
              "</style>\n",
              "<table id=\"T_bf631\" class=\"dataframe\">\n",
              "  <caption>Маятник №4</caption>\n",
              "  <thead>\n",
              "    <tr>\n",
              "      <th class=\"blank level0\" >&nbsp;</th>\n",
              "      <th id=\"T_bf631_level0_col0\" class=\"col_heading level0 col0\" >x</th>\n",
              "      <th id=\"T_bf631_level0_col1\" class=\"col_heading level0 col1\" >x-x̅</th>\n",
              "      <th id=\"T_bf631_level0_col2\" class=\"col_heading level0 col2\" >(x-x̅)²</th>\n",
              "    </tr>\n",
              "  </thead>\n",
              "  <tbody>\n",
              "    <tr>\n",
              "      <th id=\"T_bf631_level0_row0\" class=\"row_heading level0 row0\" >0</th>\n",
              "      <td id=\"T_bf631_row0_col0\" class=\"data row0 col0\" >1.000000</td>\n",
              "      <td id=\"T_bf631_row0_col1\" class=\"data row0 col1\" >-1.500000</td>\n",
              "      <td id=\"T_bf631_row0_col2\" class=\"data row0 col2\" >2.250000</td>\n",
              "    </tr>\n",
              "    <tr>\n",
              "      <th id=\"T_bf631_level0_row1\" class=\"row_heading level0 row1\" >1</th>\n",
              "      <td id=\"T_bf631_row1_col0\" class=\"data row1 col0\" >2.000000</td>\n",
              "      <td id=\"T_bf631_row1_col1\" class=\"data row1 col1\" >-0.500000</td>\n",
              "      <td id=\"T_bf631_row1_col2\" class=\"data row1 col2\" >0.250000</td>\n",
              "    </tr>\n",
              "    <tr>\n",
              "      <th id=\"T_bf631_level0_row2\" class=\"row_heading level0 row2\" >2</th>\n",
              "      <td id=\"T_bf631_row2_col0\" class=\"data row2 col0\" >3.000000</td>\n",
              "      <td id=\"T_bf631_row2_col1\" class=\"data row2 col1\" >0.500000</td>\n",
              "      <td id=\"T_bf631_row2_col2\" class=\"data row2 col2\" >0.250000</td>\n",
              "    </tr>\n",
              "    <tr>\n",
              "      <th id=\"T_bf631_level0_row3\" class=\"row_heading level0 row3\" >3</th>\n",
              "      <td id=\"T_bf631_row3_col0\" class=\"data row3 col0\" >4.000000</td>\n",
              "      <td id=\"T_bf631_row3_col1\" class=\"data row3 col1\" >1.500000</td>\n",
              "      <td id=\"T_bf631_row3_col2\" class=\"data row3 col2\" >2.250000</td>\n",
              "    </tr>\n",
              "  </tbody>\n",
              "</table>\n"
            ]
          },
          "metadata": {},
          "execution_count": 37
        }
      ]
    },
    {
      "cell_type": "code",
      "source": [
        "?plt.hist"
      ],
      "metadata": {
        "id": "_37i60rhhVQe"
      },
      "execution_count": 70,
      "outputs": []
    }
  ]
}